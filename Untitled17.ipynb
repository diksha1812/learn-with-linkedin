{
 "cells": [
  {
   "cell_type": "code",
   "execution_count": 14,
   "metadata": {},
   "outputs": [],
   "source": [
    "import tensorflow as tf"
   ]
  },
  {
   "cell_type": "code",
   "execution_count": 19,
   "metadata": {},
   "outputs": [],
   "source": [
    "import pandas as pd\n"
   ]
  },
  {
   "cell_type": "code",
   "execution_count": 26,
   "metadata": {},
   "outputs": [],
   "source": [
    "import tensorflow as tf\n",
    "\n",
    "class PearsonCorrelationCoefficient(object):\n",
    "\n",
    "    def __init__(self, n_vars=1):\n",
    "\n",
    "        self.n_vars = n_vars\n",
    "\n",
    "        self.x_ph = tf.placeholder(tf.float32, shape=(None, 1))\n",
    "\n",
    "        self.y_ph = tf.placeholder(tf.float32, shape=(None, n_vars))\n",
    "\n",
    "        x_mean, x_var = tf.nn.moments(self.x_ph, axes=[0, 1])\n",
    "\n",
    "        y_mean, y_var = tf.nn.moments(self.y_ph, axes=0)\n",
    "\n",
    "        x_op = self.x_ph - x_mean\n",
    "\n",
    "        y_op = self.y_ph - y_mean\n",
    "\n",
    "        cov = tf.reduce_mean(tf.multiply(x_op, y_op), axis=0)\n",
    "\n",
    "        self.op = cov / (tf.sqrt(x_var) * tf.sqrt(y_var))\n",
    "\n",
    "    def compute_score(self, x, y):\n",
    "\n",
    "        if len(x.shape) == 1:\n",
    "            x = x.values.reshape((-1, 1))\n",
    "\n",
    "        if len(y.shape) == 1:\n",
    "            y = y.values.reshape((-1, 1))\n",
    "\n",
    "        assert len(x.shape) == 2 and x.shape[1] == 1\n",
    "\n",
    "        assert len(y.shape) == 2 and y.shape[1] == self.n_vars\n",
    "\n",
    "        assert x.shape[0] == y.shape[0]\n",
    "\n",
    "        with tf.Session() as sess:\n",
    "            sess.run(tf.global_variables_initializer())\n",
    "\n",
    "            return sess.run(self.op, feed_dict={self.x_ph: x, self.y_ph: y})\n"
   ]
  },
  {
   "cell_type": "code",
   "execution_count": 27,
   "metadata": {},
   "outputs": [],
   "source": [
    "course = pd.read_csv('Course_Rating.csv')\n",
    "model = PearsonCorrelationCoefficient()"
   ]
  },
  {
   "cell_type": "code",
   "execution_count": 28,
   "metadata": {},
   "outputs": [
    {
     "data": {
      "text/plain": [
       "array([nan], dtype=float32)"
      ]
     },
     "execution_count": 28,
     "metadata": {},
     "output_type": "execute_result"
    }
   ],
   "source": [
    "model.compute_score(course['C++'],course['C'])"
   ]
  },
  {
   "cell_type": "code",
   "execution_count": null,
   "metadata": {},
   "outputs": [],
   "source": []
  }
 ],
 "metadata": {
  "kernelspec": {
   "display_name": "Python 3",
   "language": "python",
   "name": "python3"
  },
  "language_info": {
   "codemirror_mode": {
    "name": "ipython",
    "version": 3
   },
   "file_extension": ".py",
   "mimetype": "text/x-python",
   "name": "python",
   "nbconvert_exporter": "python",
   "pygments_lexer": "ipython3",
   "version": "3.6.7"
  }
 },
 "nbformat": 4,
 "nbformat_minor": 2
}
